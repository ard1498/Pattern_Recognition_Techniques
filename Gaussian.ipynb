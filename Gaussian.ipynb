{
 "cells": [
  {
   "cell_type": "code",
   "execution_count": null,
   "metadata": {},
   "outputs": [],
   "source": [
    "import numpy as np\n",
    "from pprint import pprint\n",
    "import math"
   ]
  },
  {
   "cell_type": "code",
   "execution_count": 24,
   "metadata": {},
   "outputs": [],
   "source": [
    "class Gaussian:\n",
    "    def __init__(self,sigma = 1, m = 1):\n",
    "        self.result = {}\n",
    "        self.sigma = sigma\n",
    "        self.K = 1/((2*3.14)**(m/2) * self.sigma**m)\n",
    "        self.classes = set()\n",
    "    \n",
    "    def train(self, X, Y):\n",
    "        self.classes = set(Y)\n",
    "        no_of_features = len(X[0])\n",
    "        self.result['total'] = len(X)\n",
    "        for i in self.classes:\n",
    "            self.result[i] = {}\n",
    "            for j in range(no_of_features):\n",
    "                self.result[i][j] = list()\n",
    "                \n",
    "        for i in range(len(X)):\n",
    "            self.result[Y[i]]['total'] = (Y == Y[i]).sum()\n",
    "            for j in range(no_of_features):\n",
    "                self.result[Y[i]][j].append(X[i][j])\n",
    "        \n",
    "        pprint(self.result)\n",
    "        return\n",
    "    \n",
    "    def get_gaussian_probab(self, X_test):\n",
    "        # calculating for every classes\n",
    "        no_of_features = X_test.shape[-1]\n",
    "        final_probabilities = {}\n",
    "        for i in self.classes:\n",
    "            final_post_probab = 1\n",
    "            for j in range(no_of_features):\n",
    "                final_expr = 0\n",
    "                for k in self.result[i][j]:\n",
    "                    final_expr += math.exp(-((k - X_test[j])**2)/(2*(self.sigma**2)))\n",
    "#                     print(math.exp(-((k - X_test[j])**2)/(2*(self.sigma**2))))\n",
    "#                 print(final_expr)\n",
    "                final_post_probab *= final_expr\n",
    "#                 print(final_post_probab)\n",
    "            final_probabilities[i] = ((self.K**self.result[i]['total'])**no_of_features) * final_post_probab\n",
    "        return final_probabilities\n",
    "    \n",
    "    def predict(self, X_test):\n",
    "        # calculating priori of classes\n",
    "        priori = {}\n",
    "        for i in self.classes:\n",
    "            priori[i] = self.result[i]['total'] / self.result['total']\n",
    "            print(\"priori[\"+ i +\"] : \" + str(priori[i]))\n",
    "        # get the posteieri probabilities\n",
    "        final_post_probability = self.get_gaussian_probab(X_test)\n",
    "        print(\"final post probebility : \")\n",
    "        pprint(final_post_probability)\n",
    "        for i in self.classes:\n",
    "            print('probability of class ' + i + ' is :' + str(final_post_probability[i] * priori[i]))\n",
    "        return"
   ]
  },
  {
   "cell_type": "code",
   "execution_count": 14,
   "metadata": {},
   "outputs": [
    {
     "name": "stdout",
     "output_type": "stream",
     "text": [
      "enter the number of independent attributes:3\n",
      "enter the number of data points:6\n",
      "enter f0 name:at1\n",
      "enter f1 name:at2\n",
      "enter f2 name:at3\n",
      "enter the 0 data point:\n",
      "Value of at1:3.1\n",
      "Value of at2:2.1\n",
      "Value of at3:2.3\n",
      "enter the class for the data point:+ve\n",
      "enter the 1 data point:\n",
      "Value of at1:4.2\n",
      "Value of at2:6.2\n",
      "Value of at3:7.6\n",
      "enter the class for the data point:+ve\n",
      "enter the 2 data point:\n",
      "Value of at1:7.8\n",
      "Value of at2:1.3\n",
      "Value of at3:0.5\n",
      "enter the class for the data point:+ve\n",
      "enter the 3 data point:\n",
      "Value of at1:2.3\n",
      "Value of at2:5.2\n",
      "Value of at3:2.4\n",
      "enter the class for the data point:-ve\n",
      "enter the 4 data point:\n",
      "Value of at1:6.4\n",
      "Value of at2:3.2\n",
      "Value of at3:4.3\n",
      "enter the class for the data point:-ve\n",
      "enter the 5 data point:\n",
      "Value of at1:1.3\n",
      "Value of at2:5.8\n",
      "Value of at3:3.3\n",
      "enter the class for the data point:-ve\n"
     ]
    }
   ],
   "source": [
    "m = int(input(\"enter the number of independent attributes:\"))\n",
    "n = int(input(\"enter the number of data points:\"))\n",
    "\n",
    "features = []\n",
    "for j in range(m):\n",
    "    features.append(str(input('enter f'+str(j) + ' name:')))\n",
    "\n",
    "outputs = []\n",
    "X = []\n",
    "for i in range(n):\n",
    "    Xi= []\n",
    "    print('enter the '+str(i)+' data point:')\n",
    "    for j in range(m):\n",
    "        Xi.append(float(input('Value of ' + features[j] + ':')))\n",
    "    X.append(Xi)\n",
    "    outputs.append(str(input('enter the class for the data point:')))"
   ]
  },
  {
   "cell_type": "code",
   "execution_count": 25,
   "metadata": {},
   "outputs": [
    {
     "name": "stdout",
     "output_type": "stream",
     "text": [
      "3.1 2.1 2.3 +ve\n",
      "4.2 6.2 7.6 +ve\n",
      "7.8 1.3 0.5 +ve\n",
      "2.3 5.2 2.4 -ve\n",
      "6.4 3.2 4.3 -ve\n",
      "1.3 5.8 3.3 -ve\n",
      "{'+ve': {0: [3.1, 4.2, 7.8],\n",
      "         1: [2.1, 6.2, 1.3],\n",
      "         2: [2.3, 7.6, 0.5],\n",
      "         'total': 3},\n",
      " '-ve': {0: [2.3, 6.4, 1.3],\n",
      "         1: [5.2, 3.2, 5.8],\n",
      "         2: [2.4, 4.3, 3.3],\n",
      "         'total': 3},\n",
      " 'total': 6}\n"
     ]
    }
   ],
   "source": [
    "X = np.array(X)\n",
    "Y = np.array(outputs)\n",
    "for i in range(n):\n",
    "    for j in range(m):\n",
    "        print(X[i][j], end=' ')\n",
    "    print(outputs[i])\n",
    "clf = Gaussian()\n",
    "clf.train(X, Y)"
   ]
  },
  {
   "cell_type": "code",
   "execution_count": 27,
   "metadata": {},
   "outputs": [
    {
     "name": "stdout",
     "output_type": "stream",
     "text": [
      "enter the test data point:\n",
      "Value of at1:9\n",
      "Value of at2:2.5\n",
      "Value of at3:3.2\n",
      "x test is :\n",
      "array([9. , 2.5, 3.2])\n"
     ]
    }
   ],
   "source": [
    "print('enter the test data point:')\n",
    "X_test = []\n",
    "for j in range(len(features)):\n",
    "    X_test.append(float(input('Value of ' + features[j] + ':')))\n",
    "X_test = np.array(X_test)    \n",
    "print(\"x test is :\")\n",
    "pprint(X_test)"
   ]
  },
  {
   "cell_type": "code",
   "execution_count": 28,
   "metadata": {},
   "outputs": [
    {
     "name": "stdout",
     "output_type": "stream",
     "text": [
      "priori[-ve] : 0.5\n",
      "priori[+ve] : 0.5\n",
      "final post probebility : \n",
      "{'+ve': 0.00012213465863108853, '-ve': 1.610387248978434e-05}\n",
      "probability of class -ve is :8.05193624489217e-06\n",
      "probability of class +ve is :6.106732931554427e-05\n"
     ]
    }
   ],
   "source": [
    "clf.predict(X_test)"
   ]
  }
 ],
 "metadata": {
  "kernelspec": {
   "display_name": "Python 3",
   "language": "python",
   "name": "python3"
  },
  "language_info": {
   "codemirror_mode": {
    "name": "ipython",
    "version": 3
   },
   "file_extension": ".py",
   "mimetype": "text/x-python",
   "name": "python",
   "nbconvert_exporter": "python",
   "pygments_lexer": "ipython3",
   "version": "3.6.7"
  }
 },
 "nbformat": 4,
 "nbformat_minor": 2
}
